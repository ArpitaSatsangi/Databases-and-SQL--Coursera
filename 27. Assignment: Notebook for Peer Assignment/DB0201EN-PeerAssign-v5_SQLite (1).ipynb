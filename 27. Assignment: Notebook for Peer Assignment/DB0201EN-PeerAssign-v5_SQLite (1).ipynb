{
 "cells": [
  {
   "cell_type": "markdown",
   "metadata": {},
   "source": [
    "<center>\n",
    "    <img src=\"https://cf-courses-data.s3.us.cloud-object-storage.appdomain.cloud/IBMDeveloperSkillsNetwork-DB0201EN-SkillsNetwork/labs/FinalModule_Coursera_V5/images/SN_web_lightmode.png\" width=\"300\" alt=\"cognitiveclass.ai logo\">\n",
    "</center>\n",
    "\n",
    "<h1 align=center><font size = 5>Assignment: Notebook for Peer Assignment</font></h1>\n"
   ]
  },
  {
   "cell_type": "markdown",
   "metadata": {},
   "source": [
    "# Introduction\n",
    "\n",
    "Using this Python notebook you will:\n",
    "\n",
    "1.  Understand three Chicago datasets\n",
    "2.  Load the three datasets into three tables in a SQLIte database\n",
    "3.  Execute SQL queries to answer assignment questions\n"
   ]
  },
  {
   "cell_type": "markdown",
   "metadata": {},
   "source": [
    "## Understand the datasets\n",
    "\n",
    "To complete the assignment problems in this notebook you will be using three datasets that are available on the city of Chicago's Data Portal:\n",
    "\n",
    "1.  <a href=\"https://data.cityofchicago.org/Health-Human-Services/Census-Data-Selected-socioeconomic-indicators-in-C/kn9c-c2s2?utm_medium=Exinfluencer&utm_source=Exinfluencer&utm_content=000026UJ&utm_term=10006555&utm_id=NA-SkillsNetwork-Channel-SkillsNetworkCoursesIBMDeveloperSkillsNetworkDB0201ENSkillsNetwork20127838-2021-01-01\">Socioeconomic Indicators in Chicago</a>\n",
    "2.  <a href=\"https://data.cityofchicago.org/Education/Chicago-Public-Schools-Progress-Report-Cards-2011-/9xs2-f89t?utm_medium=Exinfluencer&utm_source=Exinfluencer&utm_content=000026UJ&utm_term=10006555&utm_id=NA-SkillsNetwork-Channel-SkillsNetworkCoursesIBMDeveloperSkillsNetworkDB0201ENSkillsNetwork20127838-2021-01-01\">Chicago Public Schools</a>\n",
    "3.  <a href=\"https://data.cityofchicago.org/Public-Safety/Crimes-2001-to-present/ijzp-q8t2?utm_medium=Exinfluencer&utm_source=Exinfluencer&utm_content=000026UJ&utm_term=10006555&utm_id=NA-SkillsNetwork-Channel-SkillsNetworkCoursesIBMDeveloperSkillsNetworkDB0201ENSkillsNetwork20127838-2021-01-01\">Chicago Crime Data</a>\n",
    "\n",
    "### 1. Socioeconomic Indicators in Chicago\n",
    "\n",
    "This dataset contains a selection of six socioeconomic indicators of public health significance and a “hardship index,” for each Chicago community area, for the years 2008 – 2012.\n",
    "\n",
    "A detailed description of this dataset and the original dataset can be obtained from the Chicago Data Portal at:\n",
    "[https://data.cityofchicago.org/Health-Human-Services/Census-Data-Selected-socioeconomic-indicators-in-C/kn9c-c2s2](https://data.cityofchicago.org/Health-Human-Services/Census-Data-Selected-socioeconomic-indicators-in-C/kn9c-c2s2?utm_medium=Exinfluencer&utm_source=Exinfluencer&utm_content=000026UJ&utm_term=10006555&utm_id=NA-SkillsNetwork-Channel-SkillsNetworkCoursesIBMDeveloperSkillsNetworkDB0201ENSkillsNetwork20127838-2021-01-01&cm_mmc=Email_Newsletter-_-Developer_Ed%2BTech-_-WW_WW-_-SkillsNetwork-Courses-IBMDeveloperSkillsNetwork-DB0201EN-SkillsNetwork-20127838&cm_mmca1=000026UJ&cm_mmca2=10006555&cm_mmca3=M12345678&cvosrc=email.Newsletter.M12345678&cvo_campaign=000026UJ)\n",
    "\n",
    "### 2. Chicago Public Schools\n",
    "\n",
    "This dataset shows all school level performance data used to create CPS School Report Cards for the 2011-2012 school year. This dataset is provided by the city of Chicago's Data Portal.\n",
    "\n",
    "A detailed description of this dataset and the original dataset can be obtained from the Chicago Data Portal at:\n",
    "[https://data.cityofchicago.org/Education/Chicago-Public-Schools-Progress-Report-Cards-2011-/9xs2-f89t](https://data.cityofchicago.org/Education/Chicago-Public-Schools-Progress-Report-Cards-2011-/9xs2-f89t?utm_medium=Exinfluencer&utm_source=Exinfluencer&utm_content=000026UJ&utm_term=10006555&utm_id=NA-SkillsNetwork-Channel-SkillsNetworkCoursesIBMDeveloperSkillsNetworkDB0201ENSkillsNetwork20127838-2021-01-01&cm_mmc=Email_Newsletter-_-Developer_Ed%2BTech-_-WW_WW-_-SkillsNetwork-Courses-IBMDeveloperSkillsNetwork-DB0201EN-SkillsNetwork-20127838&cm_mmca1=000026UJ&cm_mmca2=10006555&cm_mmca3=M12345678&cvosrc=email.Newsletter.M12345678&cvo_campaign=000026UJ)\n",
    "\n",
    "### 3. Chicago Crime Data\n",
    "\n",
    "This dataset reflects reported incidents of crime (with the exception of murders where data exists for each victim) that occurred in the City of Chicago from 2001 to present, minus the most recent seven days.\n",
    "\n",
    "A detailed description of this dataset and the original dataset can be obtained from the Chicago Data Portal at:\n",
    "[https://data.cityofchicago.org/Public-Safety/Crimes-2001-to-present/ijzp-q8t2](https://data.cityofchicago.org/Public-Safety/Crimes-2001-to-present/ijzp-q8t2?utm_medium=Exinfluencer&utm_source=Exinfluencer&utm_content=000026UJ&utm_term=10006555&utm_id=NA-SkillsNetwork-Channel-SkillsNetworkCoursesIBMDeveloperSkillsNetworkDB0201ENSkillsNetwork20127838-2021-01-01&cm_mmc=Email_Newsletter-_-Developer_Ed%2BTech-_-WW_WW-_-SkillsNetwork-Courses-IBMDeveloperSkillsNetwork-DB0201EN-SkillsNetwork-20127838&cm_mmca1=000026UJ&cm_mmca2=10006555&cm_mmca3=M12345678&cvosrc=email.Newsletter.M12345678&cvo_campaign=000026UJ)\n"
   ]
  },
  {
   "cell_type": "markdown",
   "metadata": {},
   "source": [
    "### Download the datasets\n",
    "\n",
    "This assignment requires you to have these three tables populated with a subset of the whole datasets.\n",
    "\n",
    "In many cases the dataset to be analyzed is available as a .CSV (comma separated values) file, perhaps on the internet. Click on the links below to download and save the datasets (.CSV files):\n",
    "\n",
    "*   <a href=\"https://cf-courses-data.s3.us.cloud-object-storage.appdomain.cloud/IBMDeveloperSkillsNetwork-DB0201EN-SkillsNetwork/labs/FinalModule_Coursera_V5/data/ChicagoCensusData.csv?utm_medium=Exinfluencer&utm_source=Exinfluencer&utm_content=000026UJ&utm_term=10006555&utm_id=NA-SkillsNetwork-Channel-SkillsNetworkCoursesIBMDeveloperSkillsNetworkDB0201ENSkillsNetwork20127838-2021-01-01\" target=\"_blank\">Chicago Census Data</a>\n",
    "\n",
    "*   <a href=\"https://cf-courses-data.s3.us.cloud-object-storage.appdomain.cloud/IBMDeveloperSkillsNetwork-DB0201EN-SkillsNetwork/labs/FinalModule_Coursera_V5/data/ChicagoPublicSchools.csv?utm_medium=Exinfluencer&utm_source=Exinfluencer&utm_content=000026UJ&utm_term=10006555&utm_id=NA-SkillsNetwork-Channel-SkillsNetworkCoursesIBMDeveloperSkillsNetworkDB0201ENSkillsNetwork20127838-2021-01-01\" target=\"_blank\">Chicago Public Schools</a>\n",
    "\n",
    "*   <a href=\"https://cf-courses-data.s3.us.cloud-object-storage.appdomain.cloud/IBMDeveloperSkillsNetwork-DB0201EN-SkillsNetwork/labs/FinalModule_Coursera_V5/data/ChicagoCrimeData.csv?utm_medium=Exinfluencer&utm_source=Exinfluencer&utm_content=000026UJ&utm_term=10006555&utm_id=NA-SkillsNetwork-Channel-SkillsNetworkCoursesIBMDeveloperSkillsNetworkDB0201ENSkillsNetwork20127838-2021-01-01\" target=\"_blank\">Chicago Crime Data</a>\n",
    "\n",
    "**NOTE:** Ensure you have downloaded the datasets using the links above instead of directly from the Chicago Data Portal. The versions linked here are subsets of the original datasets and have some of the column names modified to be more database friendly which will make it easier to complete this assignment.\n"
   ]
  },
  {
   "cell_type": "markdown",
   "metadata": {},
   "source": [
    "### Store the datasets in database tables\n",
    "\n",
    "To analyze the data using SQL, it first needs to be loaded into SQLite DB.\n",
    "We will create three tables in as under:\n",
    "\n",
    "1.  **CENSUS_DATA**\n",
    "2.  **CHICAGO_PUBLIC_SCHOOLS**\n",
    "3.  **CHICAGO_CRIME_DATA**\n",
    "\n",
    "Let us now load the ipython-sql  extension and establish a connection with the database\n",
    "\n",
    "* Here you will be loading the csv files into the pandas Dataframe and then loading the data into the above mentioned sqlite tables.\n",
    "\n",
    "* Next you will be connecting to the sqlite database  **FinalDB**.\n",
    "\n",
    "Refer to the previous lab for hints .\n",
    "\n",
    "<a href =\"https://cf-courses-data.s3.us.cloud-object-storage.appdomain.cloud/IBMDeveloperSkillsNetwork-DB0201EN-SkillsNetwork/labs/Module%205/DB0201EN-Week3-1-4-Analyzing_SQLite.ipynb\">Hands-on Lab: Analyzing a real World Data Set</a>\n",
    "\n",
    "\n",
    "\n"
   ]
  },
  {
   "cell_type": "code",
   "execution_count": 1,
   "metadata": {
    "tags": []
   },
   "outputs": [],
   "source": [
    "import csv, sqlite3\n",
    "\n",
    "con = sqlite3.connect(\"FinalDB.db\")\n",
    "cur = con.cursor()"
   ]
  },
  {
   "cell_type": "code",
   "execution_count": 2,
   "metadata": {
    "tags": []
   },
   "outputs": [],
   "source": [
    "%load_ext sql"
   ]
  },
  {
   "cell_type": "code",
   "execution_count": 3,
   "metadata": {
    "tags": []
   },
   "outputs": [
    {
     "data": {
      "text/plain": [
       "'Connected: @FinalDB.db'"
      ]
     },
     "execution_count": 3,
     "metadata": {},
     "output_type": "execute_result"
    }
   ],
   "source": [
    "%sql sqlite:///FinalDB.db"
   ]
  },
  {
   "cell_type": "code",
   "execution_count": 4,
   "metadata": {
    "tags": []
   },
   "outputs": [
    {
     "name": "stderr",
     "output_type": "stream",
     "text": [
      "/home/jupyterlab/conda/envs/python/lib/python3.7/site-packages/pandas/core/generic.py:2882: UserWarning: The spaces in these column names will not be changed. In pandas versions < 0.14, spaces were converted to underscores.\n",
      "  method=method,\n"
     ]
    }
   ],
   "source": [
    "import pandas\n",
    "\n",
    "df = pandas.read_csv(\"https://cf-courses-data.s3.us.cloud-object-storage.appdomain.cloud/IBMDeveloperSkillsNetwork-DB0201EN-SkillsNetwork/labs/FinalModule_Coursera_V5/data/ChicagoCensusData.csv\")\n",
    "df.to_sql(\"CENSUS_DATA\", con, if_exists='replace', index=False,method=\"multi\")\n",
    "\n",
    "\n",
    "df = pandas.read_csv(\"https://cf-courses-data.s3.us.cloud-object-storage.appdomain.cloud/IBMDeveloperSkillsNetwork-DB0201EN-SkillsNetwork/labs/FinalModule_Coursera_V5/data/ChicagoPublicSchools.csv\")\n",
    "df.to_sql(\"CHICAGO_PUBLIC_SCHOOLS\", con, if_exists='replace', index=False, method=\"multi\")\n",
    "\n",
    "\n",
    "df = pandas.read_csv(\"https://cf-courses-data.s3.us.cloud-object-storage.appdomain.cloud/IBMDeveloperSkillsNetwork-DB0201EN-SkillsNetwork/labs/FinalModule_Coursera_V5/data/ChicagoCrimeData.csv\")\n",
    "df.to_sql(\"CHICAGO_CRIME_DATA\", con, if_exists='replace', index=False, method=\"multi\")\n",
    "\n",
    "\n"
   ]
  },
  {
   "cell_type": "code",
   "execution_count": 5,
   "metadata": {
    "tags": []
   },
   "outputs": [
    {
     "name": "stdout",
     "output_type": "stream",
     "text": [
      " * sqlite:///FinalDB.db\n",
      "Done.\n"
     ]
    },
    {
     "data": {
      "text/html": [
       "<table>\n",
       "    <thead>\n",
       "        <tr>\n",
       "            <th>name</th>\n",
       "        </tr>\n",
       "    </thead>\n",
       "    <tbody>\n",
       "        <tr>\n",
       "            <td>CENSUS_DATA</td>\n",
       "        </tr>\n",
       "        <tr>\n",
       "            <td>CHICAGO_PUBLIC_SCHOOLS</td>\n",
       "        </tr>\n",
       "        <tr>\n",
       "            <td>CHICAGO_CRIME_DATA</td>\n",
       "        </tr>\n",
       "    </tbody>\n",
       "</table>"
      ],
      "text/plain": [
       "[('CENSUS_DATA',), ('CHICAGO_PUBLIC_SCHOOLS',), ('CHICAGO_CRIME_DATA',)]"
      ]
     },
     "execution_count": 5,
     "metadata": {},
     "output_type": "execute_result"
    }
   ],
   "source": [
    "%%sql\n",
    "SELECT name FROM sqlite_master WHERE type='table'\n"
   ]
  },
  {
   "cell_type": "code",
   "execution_count": 6,
   "metadata": {
    "tags": []
   },
   "outputs": [
    {
     "name": "stdout",
     "output_type": "stream",
     "text": [
      " * sqlite:///FinalDB.db\n",
      "Done.\n"
     ]
    },
    {
     "data": {
      "text/html": [
       "<table>\n",
       "    <thead>\n",
       "        <tr>\n",
       "            <th>name</th>\n",
       "        </tr>\n",
       "    </thead>\n",
       "    <tbody>\n",
       "        <tr>\n",
       "            <td>COMMUNITY_AREA_NUMBER</td>\n",
       "        </tr>\n",
       "        <tr>\n",
       "            <td>COMMUNITY_AREA_NAME</td>\n",
       "        </tr>\n",
       "        <tr>\n",
       "            <td>PERCENT_OF_HOUSING_CROWDED</td>\n",
       "        </tr>\n",
       "        <tr>\n",
       "            <td>PERCENT_HOUSEHOLDS_BELOW_POVERTY</td>\n",
       "        </tr>\n",
       "        <tr>\n",
       "            <td>PERCENT_AGED_16__UNEMPLOYED</td>\n",
       "        </tr>\n",
       "        <tr>\n",
       "            <td>PERCENT_AGED_25__WITHOUT_HIGH_SCHOOL_DIPLOMA</td>\n",
       "        </tr>\n",
       "        <tr>\n",
       "            <td>PERCENT_AGED_UNDER_18_OR_OVER_64</td>\n",
       "        </tr>\n",
       "        <tr>\n",
       "            <td>PER_CAPITA_INCOME</td>\n",
       "        </tr>\n",
       "        <tr>\n",
       "            <td>HARDSHIP_INDEX</td>\n",
       "        </tr>\n",
       "    </tbody>\n",
       "</table>"
      ],
      "text/plain": [
       "[('COMMUNITY_AREA_NUMBER',),\n",
       " ('COMMUNITY_AREA_NAME',),\n",
       " ('PERCENT_OF_HOUSING_CROWDED',),\n",
       " ('PERCENT_HOUSEHOLDS_BELOW_POVERTY',),\n",
       " ('PERCENT_AGED_16__UNEMPLOYED',),\n",
       " ('PERCENT_AGED_25__WITHOUT_HIGH_SCHOOL_DIPLOMA',),\n",
       " ('PERCENT_AGED_UNDER_18_OR_OVER_64',),\n",
       " ('PER_CAPITA_INCOME',),\n",
       " ('HARDSHIP_INDEX',)]"
      ]
     },
     "execution_count": 6,
     "metadata": {},
     "output_type": "execute_result"
    }
   ],
   "source": [
    "%%sql \n",
    "select name\n",
    "FROM PRAGMA_TABLE_INFO('CENSUS_DATA');"
   ]
  },
  {
   "cell_type": "code",
   "execution_count": 7,
   "metadata": {
    "tags": []
   },
   "outputs": [
    {
     "name": "stdout",
     "output_type": "stream",
     "text": [
      " * sqlite:///FinalDB.db\n",
      "Done.\n"
     ]
    },
    {
     "data": {
      "text/html": [
       "<table>\n",
       "    <thead>\n",
       "        <tr>\n",
       "            <th>name</th>\n",
       "        </tr>\n",
       "    </thead>\n",
       "    <tbody>\n",
       "        <tr>\n",
       "            <td>School_ID</td>\n",
       "        </tr>\n",
       "        <tr>\n",
       "            <td>NAME_OF_SCHOOL</td>\n",
       "        </tr>\n",
       "        <tr>\n",
       "            <td>Elementary, Middle, or High School</td>\n",
       "        </tr>\n",
       "        <tr>\n",
       "            <td>Street_Address</td>\n",
       "        </tr>\n",
       "        <tr>\n",
       "            <td>City</td>\n",
       "        </tr>\n",
       "        <tr>\n",
       "            <td>State</td>\n",
       "        </tr>\n",
       "        <tr>\n",
       "            <td>ZIP_Code</td>\n",
       "        </tr>\n",
       "        <tr>\n",
       "            <td>Phone_Number</td>\n",
       "        </tr>\n",
       "        <tr>\n",
       "            <td>Link</td>\n",
       "        </tr>\n",
       "        <tr>\n",
       "            <td>Network_Manager</td>\n",
       "        </tr>\n",
       "        <tr>\n",
       "            <td>Collaborative_Name</td>\n",
       "        </tr>\n",
       "        <tr>\n",
       "            <td>Adequate_Yearly_Progress_Made_</td>\n",
       "        </tr>\n",
       "        <tr>\n",
       "            <td>Track_Schedule</td>\n",
       "        </tr>\n",
       "        <tr>\n",
       "            <td>CPS_Performance_Policy_Status</td>\n",
       "        </tr>\n",
       "        <tr>\n",
       "            <td>CPS_Performance_Policy_Level</td>\n",
       "        </tr>\n",
       "        <tr>\n",
       "            <td>HEALTHY_SCHOOL_CERTIFIED</td>\n",
       "        </tr>\n",
       "        <tr>\n",
       "            <td>Safety_Icon</td>\n",
       "        </tr>\n",
       "        <tr>\n",
       "            <td>SAFETY_SCORE</td>\n",
       "        </tr>\n",
       "        <tr>\n",
       "            <td>Family_Involvement_Icon</td>\n",
       "        </tr>\n",
       "        <tr>\n",
       "            <td>Family_Involvement_Score</td>\n",
       "        </tr>\n",
       "        <tr>\n",
       "            <td>Environment_Icon</td>\n",
       "        </tr>\n",
       "        <tr>\n",
       "            <td>Environment_Score</td>\n",
       "        </tr>\n",
       "        <tr>\n",
       "            <td>Instruction_Icon</td>\n",
       "        </tr>\n",
       "        <tr>\n",
       "            <td>Instruction_Score</td>\n",
       "        </tr>\n",
       "        <tr>\n",
       "            <td>Leaders_Icon</td>\n",
       "        </tr>\n",
       "        <tr>\n",
       "            <td>Leaders_Score</td>\n",
       "        </tr>\n",
       "        <tr>\n",
       "            <td>Teachers_Icon</td>\n",
       "        </tr>\n",
       "        <tr>\n",
       "            <td>Teachers_Score</td>\n",
       "        </tr>\n",
       "        <tr>\n",
       "            <td>Parent_Engagement_Icon</td>\n",
       "        </tr>\n",
       "        <tr>\n",
       "            <td>Parent_Engagement_Score</td>\n",
       "        </tr>\n",
       "        <tr>\n",
       "            <td>Parent_Environment_Icon</td>\n",
       "        </tr>\n",
       "        <tr>\n",
       "            <td>Parent_Environment_Score</td>\n",
       "        </tr>\n",
       "        <tr>\n",
       "            <td>AVERAGE_STUDENT_ATTENDANCE</td>\n",
       "        </tr>\n",
       "        <tr>\n",
       "            <td>Rate_of_Misconducts__per_100_students_</td>\n",
       "        </tr>\n",
       "        <tr>\n",
       "            <td>Average_Teacher_Attendance</td>\n",
       "        </tr>\n",
       "        <tr>\n",
       "            <td>Individualized_Education_Program_Compliance_Rate</td>\n",
       "        </tr>\n",
       "        <tr>\n",
       "            <td>Pk_2_Literacy__</td>\n",
       "        </tr>\n",
       "        <tr>\n",
       "            <td>Pk_2_Math__</td>\n",
       "        </tr>\n",
       "        <tr>\n",
       "            <td>Gr3_5_Grade_Level_Math__</td>\n",
       "        </tr>\n",
       "        <tr>\n",
       "            <td>Gr3_5_Grade_Level_Read__</td>\n",
       "        </tr>\n",
       "        <tr>\n",
       "            <td>Gr3_5_Keep_Pace_Read__</td>\n",
       "        </tr>\n",
       "        <tr>\n",
       "            <td>Gr3_5_Keep_Pace_Math__</td>\n",
       "        </tr>\n",
       "        <tr>\n",
       "            <td>Gr6_8_Grade_Level_Math__</td>\n",
       "        </tr>\n",
       "        <tr>\n",
       "            <td>Gr6_8_Grade_Level_Read__</td>\n",
       "        </tr>\n",
       "        <tr>\n",
       "            <td>Gr6_8_Keep_Pace_Math_</td>\n",
       "        </tr>\n",
       "        <tr>\n",
       "            <td>Gr6_8_Keep_Pace_Read__</td>\n",
       "        </tr>\n",
       "        <tr>\n",
       "            <td>Gr_8_Explore_Math__</td>\n",
       "        </tr>\n",
       "        <tr>\n",
       "            <td>Gr_8_Explore_Read__</td>\n",
       "        </tr>\n",
       "        <tr>\n",
       "            <td>ISAT_Exceeding_Math__</td>\n",
       "        </tr>\n",
       "        <tr>\n",
       "            <td>ISAT_Exceeding_Reading__</td>\n",
       "        </tr>\n",
       "        <tr>\n",
       "            <td>ISAT_Value_Add_Math</td>\n",
       "        </tr>\n",
       "        <tr>\n",
       "            <td>ISAT_Value_Add_Read</td>\n",
       "        </tr>\n",
       "        <tr>\n",
       "            <td>ISAT_Value_Add_Color_Math</td>\n",
       "        </tr>\n",
       "        <tr>\n",
       "            <td>ISAT_Value_Add_Color_Read</td>\n",
       "        </tr>\n",
       "        <tr>\n",
       "            <td>Students_Taking__Algebra__</td>\n",
       "        </tr>\n",
       "        <tr>\n",
       "            <td>Students_Passing__Algebra__</td>\n",
       "        </tr>\n",
       "        <tr>\n",
       "            <td>9th Grade EXPLORE (2009)</td>\n",
       "        </tr>\n",
       "        <tr>\n",
       "            <td>9th Grade EXPLORE (2010)</td>\n",
       "        </tr>\n",
       "        <tr>\n",
       "            <td>10th Grade PLAN (2009)</td>\n",
       "        </tr>\n",
       "        <tr>\n",
       "            <td>10th Grade PLAN (2010)</td>\n",
       "        </tr>\n",
       "        <tr>\n",
       "            <td>Net_Change_EXPLORE_and_PLAN</td>\n",
       "        </tr>\n",
       "        <tr>\n",
       "            <td>11th Grade Average ACT (2011)</td>\n",
       "        </tr>\n",
       "        <tr>\n",
       "            <td>Net_Change_PLAN_and_ACT</td>\n",
       "        </tr>\n",
       "        <tr>\n",
       "            <td>College_Eligibility__</td>\n",
       "        </tr>\n",
       "        <tr>\n",
       "            <td>Graduation_Rate__</td>\n",
       "        </tr>\n",
       "        <tr>\n",
       "            <td>College_Enrollment_Rate__</td>\n",
       "        </tr>\n",
       "        <tr>\n",
       "            <td>COLLEGE_ENROLLMENT</td>\n",
       "        </tr>\n",
       "        <tr>\n",
       "            <td>General_Services_Route</td>\n",
       "        </tr>\n",
       "        <tr>\n",
       "            <td>Freshman_on_Track_Rate__</td>\n",
       "        </tr>\n",
       "        <tr>\n",
       "            <td>X_COORDINATE</td>\n",
       "        </tr>\n",
       "        <tr>\n",
       "            <td>Y_COORDINATE</td>\n",
       "        </tr>\n",
       "        <tr>\n",
       "            <td>Latitude</td>\n",
       "        </tr>\n",
       "        <tr>\n",
       "            <td>Longitude</td>\n",
       "        </tr>\n",
       "        <tr>\n",
       "            <td>COMMUNITY_AREA_NUMBER</td>\n",
       "        </tr>\n",
       "        <tr>\n",
       "            <td>COMMUNITY_AREA_NAME</td>\n",
       "        </tr>\n",
       "        <tr>\n",
       "            <td>Ward</td>\n",
       "        </tr>\n",
       "        <tr>\n",
       "            <td>Police_District</td>\n",
       "        </tr>\n",
       "        <tr>\n",
       "            <td>Location</td>\n",
       "        </tr>\n",
       "    </tbody>\n",
       "</table>"
      ],
      "text/plain": [
       "[('School_ID',),\n",
       " ('NAME_OF_SCHOOL',),\n",
       " ('Elementary, Middle, or High School',),\n",
       " ('Street_Address',),\n",
       " ('City',),\n",
       " ('State',),\n",
       " ('ZIP_Code',),\n",
       " ('Phone_Number',),\n",
       " ('Link',),\n",
       " ('Network_Manager',),\n",
       " ('Collaborative_Name',),\n",
       " ('Adequate_Yearly_Progress_Made_',),\n",
       " ('Track_Schedule',),\n",
       " ('CPS_Performance_Policy_Status',),\n",
       " ('CPS_Performance_Policy_Level',),\n",
       " ('HEALTHY_SCHOOL_CERTIFIED',),\n",
       " ('Safety_Icon',),\n",
       " ('SAFETY_SCORE',),\n",
       " ('Family_Involvement_Icon',),\n",
       " ('Family_Involvement_Score',),\n",
       " ('Environment_Icon',),\n",
       " ('Environment_Score',),\n",
       " ('Instruction_Icon',),\n",
       " ('Instruction_Score',),\n",
       " ('Leaders_Icon',),\n",
       " ('Leaders_Score',),\n",
       " ('Teachers_Icon',),\n",
       " ('Teachers_Score',),\n",
       " ('Parent_Engagement_Icon',),\n",
       " ('Parent_Engagement_Score',),\n",
       " ('Parent_Environment_Icon',),\n",
       " ('Parent_Environment_Score',),\n",
       " ('AVERAGE_STUDENT_ATTENDANCE',),\n",
       " ('Rate_of_Misconducts__per_100_students_',),\n",
       " ('Average_Teacher_Attendance',),\n",
       " ('Individualized_Education_Program_Compliance_Rate',),\n",
       " ('Pk_2_Literacy__',),\n",
       " ('Pk_2_Math__',),\n",
       " ('Gr3_5_Grade_Level_Math__',),\n",
       " ('Gr3_5_Grade_Level_Read__',),\n",
       " ('Gr3_5_Keep_Pace_Read__',),\n",
       " ('Gr3_5_Keep_Pace_Math__',),\n",
       " ('Gr6_8_Grade_Level_Math__',),\n",
       " ('Gr6_8_Grade_Level_Read__',),\n",
       " ('Gr6_8_Keep_Pace_Math_',),\n",
       " ('Gr6_8_Keep_Pace_Read__',),\n",
       " ('Gr_8_Explore_Math__',),\n",
       " ('Gr_8_Explore_Read__',),\n",
       " ('ISAT_Exceeding_Math__',),\n",
       " ('ISAT_Exceeding_Reading__',),\n",
       " ('ISAT_Value_Add_Math',),\n",
       " ('ISAT_Value_Add_Read',),\n",
       " ('ISAT_Value_Add_Color_Math',),\n",
       " ('ISAT_Value_Add_Color_Read',),\n",
       " ('Students_Taking__Algebra__',),\n",
       " ('Students_Passing__Algebra__',),\n",
       " ('9th Grade EXPLORE (2009)',),\n",
       " ('9th Grade EXPLORE (2010)',),\n",
       " ('10th Grade PLAN (2009)',),\n",
       " ('10th Grade PLAN (2010)',),\n",
       " ('Net_Change_EXPLORE_and_PLAN',),\n",
       " ('11th Grade Average ACT (2011)',),\n",
       " ('Net_Change_PLAN_and_ACT',),\n",
       " ('College_Eligibility__',),\n",
       " ('Graduation_Rate__',),\n",
       " ('College_Enrollment_Rate__',),\n",
       " ('COLLEGE_ENROLLMENT',),\n",
       " ('General_Services_Route',),\n",
       " ('Freshman_on_Track_Rate__',),\n",
       " ('X_COORDINATE',),\n",
       " ('Y_COORDINATE',),\n",
       " ('Latitude',),\n",
       " ('Longitude',),\n",
       " ('COMMUNITY_AREA_NUMBER',),\n",
       " ('COMMUNITY_AREA_NAME',),\n",
       " ('Ward',),\n",
       " ('Police_District',),\n",
       " ('Location',)]"
      ]
     },
     "execution_count": 7,
     "metadata": {},
     "output_type": "execute_result"
    }
   ],
   "source": [
    "%%sql \n",
    "select name\n",
    "FROM PRAGMA_TABLE_INFO('CHICAGO_PUBLIC_SCHOOLS');"
   ]
  },
  {
   "cell_type": "code",
   "execution_count": 8,
   "metadata": {
    "tags": []
   },
   "outputs": [
    {
     "name": "stdout",
     "output_type": "stream",
     "text": [
      " * sqlite:///FinalDB.db\n",
      "Done.\n"
     ]
    },
    {
     "data": {
      "text/html": [
       "<table>\n",
       "    <thead>\n",
       "        <tr>\n",
       "            <th>name</th>\n",
       "        </tr>\n",
       "    </thead>\n",
       "    <tbody>\n",
       "        <tr>\n",
       "            <td>ID</td>\n",
       "        </tr>\n",
       "        <tr>\n",
       "            <td>CASE_NUMBER</td>\n",
       "        </tr>\n",
       "        <tr>\n",
       "            <td>DATE</td>\n",
       "        </tr>\n",
       "        <tr>\n",
       "            <td>BLOCK</td>\n",
       "        </tr>\n",
       "        <tr>\n",
       "            <td>IUCR</td>\n",
       "        </tr>\n",
       "        <tr>\n",
       "            <td>PRIMARY_TYPE</td>\n",
       "        </tr>\n",
       "        <tr>\n",
       "            <td>DESCRIPTION</td>\n",
       "        </tr>\n",
       "        <tr>\n",
       "            <td>LOCATION_DESCRIPTION</td>\n",
       "        </tr>\n",
       "        <tr>\n",
       "            <td>ARREST</td>\n",
       "        </tr>\n",
       "        <tr>\n",
       "            <td>DOMESTIC</td>\n",
       "        </tr>\n",
       "        <tr>\n",
       "            <td>BEAT</td>\n",
       "        </tr>\n",
       "        <tr>\n",
       "            <td>DISTRICT</td>\n",
       "        </tr>\n",
       "        <tr>\n",
       "            <td>WARD</td>\n",
       "        </tr>\n",
       "        <tr>\n",
       "            <td>COMMUNITY_AREA_NUMBER</td>\n",
       "        </tr>\n",
       "        <tr>\n",
       "            <td>FBICODE</td>\n",
       "        </tr>\n",
       "        <tr>\n",
       "            <td>X_COORDINATE</td>\n",
       "        </tr>\n",
       "        <tr>\n",
       "            <td>Y_COORDINATE</td>\n",
       "        </tr>\n",
       "        <tr>\n",
       "            <td>YEAR</td>\n",
       "        </tr>\n",
       "        <tr>\n",
       "            <td>LATITUDE</td>\n",
       "        </tr>\n",
       "        <tr>\n",
       "            <td>LONGITUDE</td>\n",
       "        </tr>\n",
       "        <tr>\n",
       "            <td>LOCATION</td>\n",
       "        </tr>\n",
       "    </tbody>\n",
       "</table>"
      ],
      "text/plain": [
       "[('ID',),\n",
       " ('CASE_NUMBER',),\n",
       " ('DATE',),\n",
       " ('BLOCK',),\n",
       " ('IUCR',),\n",
       " ('PRIMARY_TYPE',),\n",
       " ('DESCRIPTION',),\n",
       " ('LOCATION_DESCRIPTION',),\n",
       " ('ARREST',),\n",
       " ('DOMESTIC',),\n",
       " ('BEAT',),\n",
       " ('DISTRICT',),\n",
       " ('WARD',),\n",
       " ('COMMUNITY_AREA_NUMBER',),\n",
       " ('FBICODE',),\n",
       " ('X_COORDINATE',),\n",
       " ('Y_COORDINATE',),\n",
       " ('YEAR',),\n",
       " ('LATITUDE',),\n",
       " ('LONGITUDE',),\n",
       " ('LOCATION',)]"
      ]
     },
     "execution_count": 8,
     "metadata": {},
     "output_type": "execute_result"
    }
   ],
   "source": [
    "%%sql \n",
    "select name\n",
    "FROM PRAGMA_TABLE_INFO('CHICAGO_CRIME_DATA');"
   ]
  },
  {
   "cell_type": "markdown",
   "metadata": {},
   "source": [
    "## Problems\n",
    "\n",
    "Now write and execute SQL queries to solve assignment problems\n",
    "\n",
    "### Problem 1\n",
    "\n",
    "##### Find the total number of crimes recorded in the CRIME table.\n"
   ]
  },
  {
   "cell_type": "code",
   "execution_count": 9,
   "metadata": {
    "tags": []
   },
   "outputs": [
    {
     "name": "stdout",
     "output_type": "stream",
     "text": [
      " * sqlite:///FinalDB.db\n",
      "Done.\n"
     ]
    },
    {
     "data": {
      "text/html": [
       "<table>\n",
       "    <thead>\n",
       "        <tr>\n",
       "            <th>total_crime_no</th>\n",
       "        </tr>\n",
       "    </thead>\n",
       "    <tbody>\n",
       "        <tr>\n",
       "            <td>533</td>\n",
       "        </tr>\n",
       "    </tbody>\n",
       "</table>"
      ],
      "text/plain": [
       "[(533,)]"
      ]
     },
     "execution_count": 9,
     "metadata": {},
     "output_type": "execute_result"
    }
   ],
   "source": [
    "%%sql\n",
    "select count(*) as total_crime_no \n",
    "from CHICAGO_CRIME_DATA;"
   ]
  },
  {
   "cell_type": "markdown",
   "metadata": {},
   "source": [
    "### Problem 2\n",
    "\n",
    "##### List community areas with per capita income less than 11000.\n"
   ]
  },
  {
   "cell_type": "code",
   "execution_count": 10,
   "metadata": {
    "tags": []
   },
   "outputs": [
    {
     "name": "stdout",
     "output_type": "stream",
     "text": [
      " * sqlite:///FinalDB.db\n",
      "Done.\n"
     ]
    },
    {
     "data": {
      "text/html": [
       "<table>\n",
       "    <thead>\n",
       "        <tr>\n",
       "            <th>COMMUNITY_AREA_NAME</th>\n",
       "            <th>PER_CAPITA_INCOME</th>\n",
       "        </tr>\n",
       "    </thead>\n",
       "    <tbody>\n",
       "        <tr>\n",
       "            <td>Riverdale</td>\n",
       "            <td>8201</td>\n",
       "        </tr>\n",
       "        <tr>\n",
       "            <td>South Lawndale</td>\n",
       "            <td>10402</td>\n",
       "        </tr>\n",
       "        <tr>\n",
       "            <td>Fuller Park</td>\n",
       "            <td>10432</td>\n",
       "        </tr>\n",
       "        <tr>\n",
       "            <td>West Garfield Park</td>\n",
       "            <td>10934</td>\n",
       "        </tr>\n",
       "    </tbody>\n",
       "</table>"
      ],
      "text/plain": [
       "[('Riverdale', 8201),\n",
       " ('South Lawndale', 10402),\n",
       " ('Fuller Park', 10432),\n",
       " ('West Garfield Park', 10934)]"
      ]
     },
     "execution_count": 10,
     "metadata": {},
     "output_type": "execute_result"
    }
   ],
   "source": [
    "%%sql\n",
    "select COMMUNITY_AREA_NAME, PER_CAPITA_INCOME\n",
    "from CENSUS_DATA\n",
    "where PER_CAPITA_INCOME < 11000\n",
    "group by PER_CAPITA_INCOME; "
   ]
  },
  {
   "cell_type": "markdown",
   "metadata": {},
   "source": [
    "### Problem 3\n",
    "\n",
    "##### List all case numbers for crimes  involving minors?(children are not considered minors for the purposes of crime analysis)\n"
   ]
  },
  {
   "cell_type": "code",
   "execution_count": null,
   "metadata": {},
   "outputs": [],
   "source": [
    "%%sql\n"
   ]
  },
  {
   "cell_type": "markdown",
   "metadata": {},
   "source": [
    "### Problem 4\n",
    "\n",
    "##### List all kidnapping crimes involving a child?\n"
   ]
  },
  {
   "cell_type": "code",
   "execution_count": null,
   "metadata": {},
   "outputs": [],
   "source": [
    "%%sql\n"
   ]
  },
  {
   "cell_type": "markdown",
   "metadata": {},
   "source": [
    "### Problem 5\n",
    "\n",
    "##### What kinds of crimes were recorded at schools?\n"
   ]
  },
  {
   "cell_type": "code",
   "execution_count": 11,
   "metadata": {
    "tags": []
   },
   "outputs": [
    {
     "name": "stdout",
     "output_type": "stream",
     "text": [
      " * sqlite:///FinalDB.db\n",
      "Done.\n"
     ]
    },
    {
     "data": {
      "text/html": [
       "<table>\n",
       "    <thead>\n",
       "        <tr>\n",
       "            <th>PRIMARY_TYPE</th>\n",
       "            <th>DESCRIPTION</th>\n",
       "            <th>LOCATION_DESCRIPTION</th>\n",
       "        </tr>\n",
       "    </thead>\n",
       "    <tbody>\n",
       "        <tr>\n",
       "            <td>BATTERY</td>\n",
       "            <td>SIMPLE</td>\n",
       "            <td>SCHOOL, PUBLIC, GROUNDS</td>\n",
       "        </tr>\n",
       "        <tr>\n",
       "            <td>BATTERY</td>\n",
       "            <td>PRO EMP HANDS NO/MIN INJURY</td>\n",
       "            <td>SCHOOL, PUBLIC, BUILDING</td>\n",
       "        </tr>\n",
       "        <tr>\n",
       "            <td>BATTERY</td>\n",
       "            <td>SIMPLE</td>\n",
       "            <td>SCHOOL, PUBLIC, BUILDING</td>\n",
       "        </tr>\n",
       "        <tr>\n",
       "            <td>BATTERY</td>\n",
       "            <td>SIMPLE</td>\n",
       "            <td>SCHOOL, PUBLIC, BUILDING</td>\n",
       "        </tr>\n",
       "        <tr>\n",
       "            <td>BATTERY</td>\n",
       "            <td>SIMPLE</td>\n",
       "            <td>SCHOOL, PUBLIC, GROUNDS</td>\n",
       "        </tr>\n",
       "        <tr>\n",
       "            <td>CRIMINAL DAMAGE</td>\n",
       "            <td>TO VEHICLE</td>\n",
       "            <td>SCHOOL, PUBLIC, GROUNDS</td>\n",
       "        </tr>\n",
       "        <tr>\n",
       "            <td>NARCOTICS</td>\n",
       "            <td>POSS: HEROIN(WHITE)</td>\n",
       "            <td>SCHOOL, PUBLIC, GROUNDS</td>\n",
       "        </tr>\n",
       "        <tr>\n",
       "            <td>NARCOTICS</td>\n",
       "            <td>MANU/DEL:CANNABIS 10GM OR LESS</td>\n",
       "            <td>SCHOOL, PUBLIC, BUILDING</td>\n",
       "        </tr>\n",
       "        <tr>\n",
       "            <td>ASSAULT</td>\n",
       "            <td>PRO EMP HANDS NO/MIN INJURY</td>\n",
       "            <td>SCHOOL, PUBLIC, GROUNDS</td>\n",
       "        </tr>\n",
       "        <tr>\n",
       "            <td>CRIMINAL TRESPASS</td>\n",
       "            <td>TO LAND</td>\n",
       "            <td>SCHOOL, PUBLIC, GROUNDS</td>\n",
       "        </tr>\n",
       "        <tr>\n",
       "            <td>PUBLIC PEACE VIOLATION</td>\n",
       "            <td>BOMB THREAT</td>\n",
       "            <td>SCHOOL, PRIVATE, BUILDING</td>\n",
       "        </tr>\n",
       "        <tr>\n",
       "            <td>PUBLIC PEACE VIOLATION</td>\n",
       "            <td>BOMB THREAT</td>\n",
       "            <td>SCHOOL, PUBLIC, BUILDING</td>\n",
       "        </tr>\n",
       "    </tbody>\n",
       "</table>"
      ],
      "text/plain": [
       "[('BATTERY', 'SIMPLE', 'SCHOOL, PUBLIC, GROUNDS'),\n",
       " ('BATTERY', 'PRO EMP HANDS NO/MIN INJURY', 'SCHOOL, PUBLIC, BUILDING'),\n",
       " ('BATTERY', 'SIMPLE', 'SCHOOL, PUBLIC, BUILDING'),\n",
       " ('BATTERY', 'SIMPLE', 'SCHOOL, PUBLIC, BUILDING'),\n",
       " ('BATTERY', 'SIMPLE', 'SCHOOL, PUBLIC, GROUNDS'),\n",
       " ('CRIMINAL DAMAGE', 'TO VEHICLE', 'SCHOOL, PUBLIC, GROUNDS'),\n",
       " ('NARCOTICS', 'POSS: HEROIN(WHITE)', 'SCHOOL, PUBLIC, GROUNDS'),\n",
       " ('NARCOTICS', 'MANU/DEL:CANNABIS 10GM OR LESS', 'SCHOOL, PUBLIC, BUILDING'),\n",
       " ('ASSAULT', 'PRO EMP HANDS NO/MIN INJURY', 'SCHOOL, PUBLIC, GROUNDS'),\n",
       " ('CRIMINAL TRESPASS', 'TO LAND', 'SCHOOL, PUBLIC, GROUNDS'),\n",
       " ('PUBLIC PEACE VIOLATION', 'BOMB THREAT', 'SCHOOL, PRIVATE, BUILDING'),\n",
       " ('PUBLIC PEACE VIOLATION', 'BOMB THREAT', 'SCHOOL, PUBLIC, BUILDING')]"
      ]
     },
     "execution_count": 11,
     "metadata": {},
     "output_type": "execute_result"
    }
   ],
   "source": [
    "%%sql\n",
    "select PRIMARY_TYPE, DESCRIPTION, LOCATION_DESCRIPTION\n",
    "from CHICAGO_CRIME_DATA\n",
    "where LOCATION_DESCRIPTION like 'SCHOOL%';"
   ]
  },
  {
   "cell_type": "markdown",
   "metadata": {},
   "source": [
    "### Problem 6\n",
    "\n",
    "##### List the average safety score for each type of school.\n"
   ]
  },
  {
   "cell_type": "code",
   "execution_count": 12,
   "metadata": {
    "tags": []
   },
   "outputs": [
    {
     "name": "stdout",
     "output_type": "stream",
     "text": [
      " * sqlite:///FinalDB.db\n",
      "Done.\n"
     ]
    },
    {
     "data": {
      "text/html": [
       "<table>\n",
       "    <thead>\n",
       "        <tr>\n",
       "            <th>AVG(SAFETY_SCORE)</th>\n",
       "            <th>Elementary, Middle, or High School</th>\n",
       "        </tr>\n",
       "    </thead>\n",
       "    <tbody>\n",
       "        <tr>\n",
       "            <td>49.52038369304557</td>\n",
       "            <td>ES</td>\n",
       "        </tr>\n",
       "    </tbody>\n",
       "</table>"
      ],
      "text/plain": [
       "[(49.52038369304557, 'ES')]"
      ]
     },
     "execution_count": 12,
     "metadata": {},
     "output_type": "execute_result"
    }
   ],
   "source": [
    "%%sql\n",
    "select AVG(SAFETY_SCORE),\"Elementary, Middle, or High School\"\n",
    "from CHICAGO_PUBLIC_SCHOOLS \n",
    "where \"Elementary, Middle, or High School\" = 'ES';"
   ]
  },
  {
   "cell_type": "markdown",
   "metadata": {},
   "source": [
    "### Problem 7\n",
    "\n",
    "##### List 5 community areas with highest % of households below poverty line\n"
   ]
  },
  {
   "cell_type": "code",
   "execution_count": 13,
   "metadata": {
    "tags": []
   },
   "outputs": [
    {
     "name": "stdout",
     "output_type": "stream",
     "text": [
      " * sqlite:///FinalDB.db\n",
      "Done.\n"
     ]
    },
    {
     "data": {
      "text/html": [
       "<table>\n",
       "    <thead>\n",
       "        <tr>\n",
       "            <th>COMMUNITY_AREA_NAME</th>\n",
       "            <th>PERCENT_HOUSEHOLDS_BELOW_POVERTY</th>\n",
       "        </tr>\n",
       "    </thead>\n",
       "    <tbody>\n",
       "        <tr>\n",
       "            <td>Riverdale</td>\n",
       "            <td>56.5</td>\n",
       "        </tr>\n",
       "        <tr>\n",
       "            <td>Fuller Park</td>\n",
       "            <td>51.2</td>\n",
       "        </tr>\n",
       "        <tr>\n",
       "            <td>Englewood</td>\n",
       "            <td>46.6</td>\n",
       "        </tr>\n",
       "        <tr>\n",
       "            <td>North Lawndale</td>\n",
       "            <td>43.1</td>\n",
       "        </tr>\n",
       "        <tr>\n",
       "            <td>East Garfield Park</td>\n",
       "            <td>42.4</td>\n",
       "        </tr>\n",
       "    </tbody>\n",
       "</table>"
      ],
      "text/plain": [
       "[('Riverdale', 56.5),\n",
       " ('Fuller Park', 51.2),\n",
       " ('Englewood', 46.6),\n",
       " ('North Lawndale', 43.1),\n",
       " ('East Garfield Park', 42.4)]"
      ]
     },
     "execution_count": 13,
     "metadata": {},
     "output_type": "execute_result"
    }
   ],
   "source": [
    "%%sql\n",
    "\n",
    "select COMMUNITY_AREA_NAME, PERCENT_HOUSEHOLDS_BELOW_POVERTY\n",
    "from CENSUS_DATA\n",
    "order by PERCENT_HOUSEHOLDS_BELOW_POVERTY DESC\n",
    "limit 5;"
   ]
  },
  {
   "cell_type": "markdown",
   "metadata": {},
   "source": [
    "### Problem 8\n",
    "\n",
    "##### Which community area is most crime prone?\n"
   ]
  },
  {
   "cell_type": "code",
   "execution_count": null,
   "metadata": {},
   "outputs": [],
   "source": [
    "%%sql\n",
    "\n",
    "select COMMUNITY_AREA_NAME from CENSUS_DATA CD, CHICAGO_CRIME_DATA CCD \n",
    "where CD.community_area_number = CCD.community_area_number \n",
    "and \n",
    "\n",
    "\n",
    "select COMMUNITY_AREA_NUMBER, COMMUNITY_AREA_NAME, HARDSHIP_INDEX \n",
    "from CENSUS_DATA\n",
    "where COMMUNITY_AREA_NUMBER in \n",
    "( select COMMUNITY_AREA_NUMBER\n",
    "  from  CHICAGO_CRIME_DATA\n",
    "  where )\n"
   ]
  },
  {
   "cell_type": "markdown",
   "metadata": {},
   "source": [
    "Double-click **here** for a hint\n",
    "\n",
    "<!--\n",
    "Query for the 'community area number' that is most crime prone.\n",
    "-->\n"
   ]
  },
  {
   "cell_type": "markdown",
   "metadata": {},
   "source": [
    "### Problem 9\n",
    "\n",
    "##### Use a sub-query to find the name of the community area with highest hardship index\n"
   ]
  },
  {
   "cell_type": "code",
   "execution_count": 18,
   "metadata": {
    "tags": []
   },
   "outputs": [
    {
     "name": "stdout",
     "output_type": "stream",
     "text": [
      " * sqlite:///FinalDB.db\n",
      "Done.\n"
     ]
    },
    {
     "data": {
      "text/html": [
       "<table>\n",
       "    <thead>\n",
       "        <tr>\n",
       "            <th>COMMUNITY_AREA_NAME</th>\n",
       "            <th>HARDSHIP_INDEX</th>\n",
       "        </tr>\n",
       "    </thead>\n",
       "    <tbody>\n",
       "        <tr>\n",
       "            <td>Riverdale</td>\n",
       "            <td>98.0</td>\n",
       "        </tr>\n",
       "    </tbody>\n",
       "</table>"
      ],
      "text/plain": [
       "[('Riverdale', 98.0)]"
      ]
     },
     "execution_count": 18,
     "metadata": {},
     "output_type": "execute_result"
    }
   ],
   "source": [
    "%%sql\n",
    "select COMMUNITY_AREA_NAME, HARDSHIP_INDEX \n",
    "from CENSUS_DATA\n",
    "where HARDSHIP_INDEX = (select max(HARDSHIP_INDEX) from CENSUS_DATA);"
   ]
  },
  {
   "cell_type": "markdown",
   "metadata": {},
   "source": [
    "### Problem 10\n",
    "\n",
    "##### Use a sub-query to determine the Community Area Name with most number of crimes?\n"
   ]
  },
  {
   "cell_type": "code",
   "execution_count": null,
   "metadata": {},
   "outputs": [],
   "source": [
    "%%sql\n",
    " \n",
    "select COMMUNITY_AREA_NAME from CENSUS_DATA CD, CHICAGO_CRIME_DATA CCD \n",
    "where CD.community_area_number = CCD.community_area_number \n",
    "and \n",
    "\n",
    "\n",
    "select COMMUNITY_AREA_NUMBER, COMMUNITY_AREA_NAME, HARDSHIP_INDEX \n",
    "from CENSUS_DATA\n",
    "where COMMUNITY_AREA_NUMBER in \n",
    "( select COMMUNITY_AREA_NUMBER\n",
    "  from  CHICAGO_CRIME_DATA\n",
    "  where )\n"
   ]
  },
  {
   "cell_type": "markdown",
   "metadata": {},
   "source": [
    "Copyright © 2020 This notebook and its source code are released under the terms of the [MIT License](https://bigdatauniversity.com/mit-license?utm_medium=Exinfluencer&utm_source=Exinfluencer&utm_content=000026UJ&utm_term=10006555&utm_id=NA-SkillsNetwork-Channel-SkillsNetworkCoursesIBMDeveloperSkillsNetworkDB0201ENSkillsNetwork20127838-2021-01-01&cm_mmc=Email_Newsletter-_-Developer_Ed%2BTech-_-WW_WW-_-SkillsNetwork-Courses-IBMDeveloperSkillsNetwork-DB0201EN-SkillsNetwork-20127838&cm_mmca1=000026UJ&cm_mmca2=10006555&cm_mmca3=M12345678&cvosrc=email.Newsletter.M12345678&cvo_campaign=000026UJ).\n"
   ]
  },
  {
   "cell_type": "markdown",
   "metadata": {},
   "source": [
    "## Author(s)\n",
    "\n",
    "<h4> Hima Vasudevan </h4>\n",
    "<h4> Rav Ahuja </h4>\n",
    "<h4> Ramesh Sannreddy </h4>\n",
    "\n",
    "## Contribtuor(s)\n",
    "\n",
    "<h4> Malika Singla </h4>\n",
    "\n",
    "## Change log\n",
    "\n",
    "| Date       | Version | Changed by        | Change Description                             |\n",
    "| ---------- | ------- | ----------------- | ---------------------------------------------- |\n",
    "| 2022-03-04 | 2.5     | Lakshmi Holla     | Changed markdown.                   |\n",
    "| 2021-05-19 | 2.4     | Lakshmi Holla     | Updated the question                           |\n",
    "| 2021-04-30 | 2.3     | Malika Singla     | Updated the libraries                          |\n",
    "| 2021-01-15 | 2.2     | Rav Ahuja         | Removed problem 11 and fixed changelog         |\n",
    "| 2020-11-25 | 2.1     | Ramesh Sannareddy | Updated the problem statements, and datasets   |\n",
    "| 2020-09-05 | 2.0     | Malika Singla     | Moved lab to course repo in GitLab             |\n",
    "| 2018-07-18 | 1.0     | Rav Ahuja         | Several updates including loading instructions |\n",
    "| 2018-05-04 | 0.1     | Hima Vasudevan    | Created initial version                        |\n",
    "\n",
    "## <h3 align=\"center\"> © IBM Corporation 2020. All rights reserved. <h3/>\n"
   ]
  }
 ],
 "metadata": {
  "kernelspec": {
   "display_name": "Python",
   "language": "python",
   "name": "conda-env-python-py"
  },
  "language_info": {
   "codemirror_mode": {
    "name": "ipython",
    "version": 3
   },
   "file_extension": ".py",
   "mimetype": "text/x-python",
   "name": "python",
   "nbconvert_exporter": "python",
   "pygments_lexer": "ipython3",
   "version": "3.7.12"
  }
 },
 "nbformat": 4,
 "nbformat_minor": 4
}
